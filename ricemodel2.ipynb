{
 "cells": [
  {
   "cell_type": "code",
   "execution_count": 1,
   "id": "77d04a33-3d4d-4277-a4c1-249a952d3e55",
   "metadata": {},
   "outputs": [],
   "source": [
    "import os\n",
    "import torch\n",
    "from torchvision import datasets, transforms\n",
    "from torch.utils.data import DataLoader, random_split\n",
    "import torch\n",
    "from torch import nn, optim\n",
    "from torchvision import transforms, datasets\n",
    "from torch.utils.data import DataLoader\n",
    "from tqdm.auto import tqdm\n",
    "from timeit import default_timer as time\n",
    "from torchinfo import summary\n",
    "from torchvision.models import efficientnet_b3, EfficientNet_B3_Weights"
   ]
  },
  {
   "cell_type": "code",
   "execution_count": 2,
   "id": "0ac007a0-b301-4590-8c87-c111766ea6bf",
   "metadata": {},
   "outputs": [],
   "source": [
    "train_rice = \"ext/RiceLeafsDisease/train\"\n",
    "test_rice = \"ext/RiceLeafsDisease/validation\""
   ]
  },
  {
   "cell_type": "code",
   "execution_count": 4,
   "id": "2ad6f701-17e0-4267-a7bf-1e9729c96171",
   "metadata": {},
   "outputs": [],
   "source": [
    "# Define the transforms\n",
    "train_transforms = .transformsCompose([\n",
    "    transforms.RandomResizedCrop(224),\n",
    "    transforms.RandomHorizontalFlip(),\n",
    "    transforms.RandomRotation(30),\n",
    "    transforms.RandomVerticalFlip(),\n",
    "    transforms.RandomAffine(degrees=15, translate=(0.1, 0.1), scale=(0.8, 1.2), shear=0.2),\n",
    "    transforms.ColorJitter(brightness=0.2, contrast=0.2, saturation=0.2, hue=0.2),\n",
    "    transforms.ToTensor(),\n",
    "    transforms.Normalize(mean=[0.485, 0.456, 0.406], std=[0.229, 0.224, 0.225])\n",
    "])\n",
    "\n",
    "val_transforms = transforms.Compose([\n",
    "    transforms.Resize(256),\n",
    "    transforms.CenterCrop(224),\n",
    "    transforms.ToTensor(),\n",
    "    transforms.Normalize(mean=[0.485, 0.456, 0.406], std=[0.229, 0.224, 0.225])\n",
    "])"
   ]
  },
  {
   "cell_type": "code",
   "execution_count": 5,
   "id": "a67acbae-e849-4252-8b05-bf467ab09d22",
   "metadata": {},
   "outputs": [],
   "source": [
    "from torchvision import datasets\n",
    "train_dataset = datasets.ImageFolder(train_rice, transform=train_transforms)\n",
    "val_dataset = datasets.ImageFolder(test_rice, transform=val_transforms)\n"
   ]
  },
  {
   "cell_type": "code",
   "execution_count": 9,
   "id": "41c2fbeb-e013-495d-a598-1ca3b4a91f52",
   "metadata": {},
   "outputs": [
    {
     "name": "stdout",
     "output_type": "stream",
     "text": [
      "Training set size: 2100\n",
      "Validation set size: 528\n"
     ]
    }
   ],
   "source": [
    "\"\"\"The torch.utils.data.DataLoader in PyTorch provides an efficient way to load and iterate over batches of data\n",
    "during the training or evaluation of machine learning models.\n",
    "\"\"\"\n",
    "from torch.utils.data import DataLoader\n",
    "\n",
    "train_loader = DataLoader(train_dataset, batch_size=32, shuffle=True)\n",
    "val_loader = DataLoader(val_dataset, batch_size=32, shuffle=False)\n",
    "\n",
    "# Print some statistics\n",
    "\n",
    "print(f\"Training set size: {len(train_dataset)}\")\n",
    "print(f\"Validation set size: {len(val_dataset)}\")\n"
   ]
  },
  {
   "cell_type": "code",
   "execution_count": 10,
   "id": "518fd719-28db-443a-b255-afb1b465891b",
   "metadata": {},
   "outputs": [],
   "source": [
    "from torch.utils.data import Dataset, DataLoader\n",
    "from PIL import Image\n",
    "import os\n",
    "\n",
    "class CustomDataset(Dataset):\n",
    "    def __init__(self, data, transform=None):\n",
    "        self.data = data\n",
    "        self.transform = transform\n",
    "\n",
    "    def __len__(self):\n",
    "        return len(self.data)\n",
    "\n",
    "    def __getitem__(self, idx):\n",
    "        img_path, class_idx = self.data[idx]\n",
    "        image = Image.open(img_path)\n",
    "        if self.transform:\n",
    "            image = self.transform(image)\n",
    "        return image, class_idx\n",
    "\n",
    "\n",
    "\n"
   ]
  },
  {
   "cell_type": "code",
   "execution_count": 12,
   "id": "89ae22c8-c839-4481-bc80-c550b6b4a9e2",
   "metadata": {},
   "outputs": [],
   "source": [
    "# Create dataset\n",
    "# Define the model\n",
    "from timeit import default_timer as timer\n",
    "from torchvision.models import efficientnet_b3, EfficientNet_B3_Weights\n",
    "device = torch.device(\"cuda\" if torch.cuda.is_available() else \"cpu\")\n",
    "# Define the custom model\n",
    "class CustomEfficientNetB3(nn.Module):\n",
    "    def __init__(self, num_classes):\n",
    "        super(CustomEfficientNetB3, self).__init__()\n",
    "        self.efficientnet = efficientnet_b3(weights=EfficientNet_B3_Weights.DEFAULT)\n",
    "        self.efficientnet.classifier = nn.Sequential(\n",
    "            nn.BatchNorm1d(self.efficientnet.classifier[1].in_features),\n",
    "            nn.Dropout(p=0.5),\n",
    "            nn.Linear(self.efficientnet.classifier[1].in_features, num_classes)\n",
    "        )\n",
    "\n",
    "    def forward(self, x):\n",
    "        return self.efficientnet(x)\n",
    "\n",
    "num_classes = 6  # Update this to match your number of classes\n",
    "model = CustomEfficientNetB3(num_classes=num_classes)\n",
    "\n"
   ]
  },
  {
   "cell_type": "code",
   "execution_count": 13,
   "id": "5ba3ea39-2d59-43c1-aa6c-8c34ac46a66b",
   "metadata": {},
   "outputs": [
    {
     "data": {
      "text/plain": [
       "=================================================================================================================================================\n",
       "Layer (type (var_name))                                           Input Shape          Output Shape         Param #              Trainable\n",
       "=================================================================================================================================================\n",
       "CustomEfficientNetB3 (CustomEfficientNetB3)                       [32, 3, 224, 224]    [32, 6]              --                   True\n",
       "├─EfficientNet (efficientnet)                                     [32, 3, 224, 224]    [32, 6]              --                   True\n",
       "│    └─Sequential (features)                                      [32, 3, 224, 224]    [32, 1536, 7, 7]     --                   True\n",
       "│    │    └─Conv2dNormActivation (0)                              [32, 3, 224, 224]    [32, 40, 112, 112]   1,160                True\n",
       "│    │    └─Sequential (1)                                        [32, 40, 112, 112]   [32, 24, 112, 112]   3,504                True\n",
       "│    │    └─Sequential (2)                                        [32, 24, 112, 112]   [32, 32, 56, 56]     48,118               True\n",
       "│    │    └─Sequential (3)                                        [32, 32, 56, 56]     [32, 48, 28, 28]     110,912              True\n",
       "│    │    └─Sequential (4)                                        [32, 48, 28, 28]     [32, 96, 14, 14]     638,700              True\n",
       "│    │    └─Sequential (5)                                        [32, 96, 14, 14]     [32, 136, 14, 14]    1,387,760            True\n",
       "│    │    └─Sequential (6)                                        [32, 136, 14, 14]    [32, 232, 7, 7]      4,628,964            True\n",
       "│    │    └─Sequential (7)                                        [32, 232, 7, 7]      [32, 384, 7, 7]      3,284,218            True\n",
       "│    │    └─Conv2dNormActivation (8)                              [32, 384, 7, 7]      [32, 1536, 7, 7]     592,896              True\n",
       "│    └─AdaptiveAvgPool2d (avgpool)                                [32, 1536, 7, 7]     [32, 1536, 1, 1]     --                   --\n",
       "│    └─Sequential (classifier)                                    [32, 1536]           [32, 6]              --                   True\n",
       "│    │    └─BatchNorm1d (0)                                       [32, 1536]           [32, 1536]           3,072                True\n",
       "│    │    └─Dropout (1)                                           [32, 1536]           [32, 1536]           --                   --\n",
       "│    │    └─Linear (2)                                            [32, 1536]           [32, 6]              9,222                True\n",
       "=================================================================================================================================================\n",
       "Total params: 10,708,526\n",
       "Trainable params: 10,708,526\n",
       "Non-trainable params: 0\n",
       "Total mult-adds (Units.GIGABYTES): 30.76\n",
       "=================================================================================================================================================\n",
       "Input size (MB): 19.27\n",
       "Forward/backward pass size (MB): 6654.46\n",
       "Params size (MB): 42.83\n",
       "Estimated Total Size (MB): 6716.56\n",
       "================================================================================================================================================="
      ]
     },
     "execution_count": 13,
     "metadata": {},
     "output_type": "execute_result"
    }
   ],
   "source": [
    "# Model summary\n",
    "summary(model,\n",
    "        input_size=(32, 3, 224, 224),\n",
    "        verbose=0,\n",
    "        col_names=[\"input_size\", \"output_size\", \"num_params\", \"trainable\"],\n",
    "        col_width=20,\n",
    "        row_settings=[\"var_names\"])"
   ]
  },
  {
   "cell_type": "code",
   "execution_count": 14,
   "id": "3657d6ed-6a7f-4e7c-bcf6-95767b234816",
   "metadata": {},
   "outputs": [],
   "source": [
    "def train_step(model:torch.nn.Module,\n",
    "               dataloader:torch.utils.data.DataLoader,\n",
    "               loss_fn:torch.nn.Module,\n",
    "               optimizer:torch.optim.Optimizer,\n",
    "               epoch: int):\n",
    "  # put model to train mode\n",
    "  model.train()\n",
    "\n",
    "  # set train loss\n",
    "  train_loss = 0\n",
    "  train_acc = 0\n",
    "\n",
    "  #loop through dataloader batches\n",
    "\n",
    "  for X,y in tqdm(dataloader, desc=f\"Epoch {epoch+1}/{num_epochs} - Training\"):\n",
    "    # forward passs\n",
    "    X,y = X.to(device),y.to(device)\n",
    "    y_logit = model(X)\n",
    "\n",
    "    # calculate the loss\n",
    "\n",
    "    loss=loss_fn(y_logit,y)\n",
    "    train_loss += loss.item()\n",
    "\n",
    "\n",
    "    #optimizer zero grad\n",
    "\n",
    "    optimizer.zero_grad()\n",
    "\n",
    "    #loss backward\n",
    "\n",
    "    loss.backward()\n",
    "\n",
    "    #optimizer step\n",
    "    optimizer.step()\n",
    "\n",
    "    #calculate and accumulate accuracy metric across all batches\n",
    "    y_pred_label = torch.argmax(torch.softmax(y_logit,dim=1),dim=1)\n",
    "    train_acc +=(y_pred_label == y).sum().item()/len(y_logit)\n",
    "\n",
    "  # return train loss and train accuracy\n",
    "  train_loss = train_loss/len(dataloader)\n",
    "  train_acc = train_acc/len(dataloader)\n",
    "  return train_loss,train_acc"
   ]
  },
  {
   "cell_type": "code",
   "execution_count": 15,
   "id": "4a359491-75c6-4a08-826b-922bfe3f4405",
   "metadata": {},
   "outputs": [],
   "source": [
    "def test_step(model: torch.nn.Module,\n",
    "              dataloader: torch.utils.data.DataLoader,\n",
    "              loss_fn: torch.nn.Module,\n",
    "              epoch: int):\n",
    "    # Put model in eval mode\n",
    "    model.eval()\n",
    "\n",
    "    # Setup test loss and test accuracy values\n",
    "    test_loss, test_acc = 0, 0\n",
    "\n",
    "    # Turn on inference context manager\n",
    "    with torch.inference_mode():\n",
    "        # Loop through DataLoader batches\n",
    "        for X,y in tqdm(dataloader, desc=f\"Epoch {epoch+1}/{num_epochs} - Testing\"):\n",
    "            # Send data to target device\n",
    "            X, y = X.to(device), y.to(device)\n",
    "\n",
    "            # 1. Forward pass\n",
    "            test_pred_logits = model(X)\n",
    "\n",
    "            # 2. Calculate and accumulate loss\n",
    "            loss = loss_fn(test_pred_logits, y)\n",
    "            test_loss += loss.item()\n",
    "\n",
    "            # Calculate and accumulate accuracy\n",
    "            test_pred_labels = test_pred_logits.argmax(dim=1)\n",
    "            test_acc += ((test_pred_labels == y).sum().item()/len(test_pred_labels))\n",
    "\n",
    "    # Adjust metrics to get average loss and accuracy per batch\n",
    "    test_loss = test_loss / len(dataloader)\n",
    "    test_acc = test_acc / len(dataloader)\n",
    "    return test_loss, test_acc"
   ]
  },
  {
   "cell_type": "code",
   "execution_count": 19,
   "id": "bdd260d2-447a-45fb-97ac-4af23c73df63",
   "metadata": {},
   "outputs": [],
   "source": [
    "from tqdm.auto import tqdm\n",
    "import torch\n",
    "import torch.nn as nn\n",
    "import torch.optim as optim\n",
    "\n",
    "def train(model: nn.Module,\n",
    "          train_dataloader: torch.utils.data.DataLoader,\n",
    "          test_dataloader: torch.utils.data.DataLoader,\n",
    "          loss_fn: nn.Module,\n",
    "          optimizer: optim.Optimizer,\n",
    "          # scheduler: optim.lr_scheduler._LRScheduler,\n",
    "          epochs: int = 5,\n",
    "          device: torch.device = 'cuda'):\n",
    "    # Empty list for training and test loss\n",
    "    result = {\n",
    "        \"train_loss\": [],\n",
    "        \"train_acc\": [],\n",
    "        \"test_loss\": [],\n",
    "        \"test_acc\": []\n",
    "    }\n",
    "\n",
    "    # Loop through training and testing steps for number of epochs\n",
    "    for epoch in tqdm(range(epochs)):\n",
    "        train_loss, train_acc = train_step(model=model,\n",
    "                                           dataloader=train_dataloader,\n",
    "                                           loss_fn=loss_fn,\n",
    "                                           optimizer=optimizer,\n",
    "                                           epoch=epoch)\n",
    "        test_loss, test_acc = test_step(model=model,\n",
    "                                        dataloader=test_dataloader,\n",
    "                                        loss_fn=loss_fn,\n",
    "                                        epoch=epoch)\n",
    "\n",
    "        # Printing what's happening\n",
    "        print(\n",
    "            f\"Epoch: {epoch+1} | \"\n",
    "            f\"train_loss: {train_loss:.4f} | \"\n",
    "            f\"train_acc: {train_acc:.4f} | \"\n",
    "            f\"test_loss: {test_loss:.4f} | \"\n",
    "            f\"test_acc: {test_acc:.4f}\"\n",
    "        )\n",
    "\n",
    "        # Update result\n",
    "        result[\"train_loss\"].append(train_loss)\n",
    "        result[\"train_acc\"].append(train_acc)\n",
    "        result[\"test_loss\"].append(test_loss)\n",
    "        result[\"test_acc\"].append(test_acc)\n",
    "        # scheduler.step()\n",
    "\n",
    "    return result\n"
   ]
  },
  {
   "cell_type": "code",
   "execution_count": 20,
   "id": "287b6458-47ab-412c-af60-4c23a8b7721d",
   "metadata": {},
   "outputs": [
    {
     "data": {
      "application/vnd.jupyter.widget-view+json": {
       "model_id": "08d927baa0e14088a627f9ac4a76b1fb",
       "version_major": 2,
       "version_minor": 0
      },
      "text/plain": [
       "  0%|          | 0/5 [00:00<?, ?it/s]"
      ]
     },
     "metadata": {},
     "output_type": "display_data"
    },
    {
     "data": {
      "application/vnd.jupyter.widget-view+json": {
       "model_id": "4729d79e1831493499de5be8c1482449",
       "version_major": 2,
       "version_minor": 0
      },
      "text/plain": [
       "Epoch 1/5 - Training:   0%|          | 0/66 [00:00<?, ?it/s]"
      ]
     },
     "metadata": {},
     "output_type": "display_data"
    },
    {
     "data": {
      "application/vnd.jupyter.widget-view+json": {
       "model_id": "7dfbb13b78894cae8c1b5108fc43a867",
       "version_major": 2,
       "version_minor": 0
      },
      "text/plain": [
       "Epoch 1/5 - Testing:   0%|          | 0/17 [00:00<?, ?it/s]"
      ]
     },
     "metadata": {},
     "output_type": "display_data"
    },
    {
     "name": "stdout",
     "output_type": "stream",
     "text": [
      "Epoch: 1 | train_loss: 1.0649 | train_acc: 0.6212 | test_loss: 0.4884 | test_acc: 0.8585\n"
     ]
    },
    {
     "data": {
      "application/vnd.jupyter.widget-view+json": {
       "model_id": "7babb9dd44b24bd48797269ce627e0f5",
       "version_major": 2,
       "version_minor": 0
      },
      "text/plain": [
       "Epoch 2/5 - Training:   0%|          | 0/66 [00:00<?, ?it/s]"
      ]
     },
     "metadata": {},
     "output_type": "display_data"
    },
    {
     "data": {
      "application/vnd.jupyter.widget-view+json": {
       "model_id": "45151aeba74e415992ab63d8226464be",
       "version_major": 2,
       "version_minor": 0
      },
      "text/plain": [
       "Epoch 2/5 - Testing:   0%|          | 0/17 [00:00<?, ?it/s]"
      ]
     },
     "metadata": {},
     "output_type": "display_data"
    },
    {
     "name": "stdout",
     "output_type": "stream",
     "text": [
      "Epoch: 2 | train_loss: 0.6320 | train_acc: 0.7687 | test_loss: 0.2449 | test_acc: 0.9246\n"
     ]
    },
    {
     "data": {
      "application/vnd.jupyter.widget-view+json": {
       "model_id": "7a79f99302804f3391b8751d812fbb16",
       "version_major": 2,
       "version_minor": 0
      },
      "text/plain": [
       "Epoch 3/5 - Training:   0%|          | 0/66 [00:00<?, ?it/s]"
      ]
     },
     "metadata": {},
     "output_type": "display_data"
    },
    {
     "data": {
      "application/vnd.jupyter.widget-view+json": {
       "model_id": "3fb52ae8cd0049f6987703f1c786e781",
       "version_major": 2,
       "version_minor": 0
      },
      "text/plain": [
       "Epoch 3/5 - Testing:   0%|          | 0/17 [00:00<?, ?it/s]"
      ]
     },
     "metadata": {},
     "output_type": "display_data"
    },
    {
     "name": "stdout",
     "output_type": "stream",
     "text": [
      "Epoch: 3 | train_loss: 0.5333 | train_acc: 0.8115 | test_loss: 0.3063 | test_acc: 0.9173\n"
     ]
    },
    {
     "data": {
      "application/vnd.jupyter.widget-view+json": {
       "model_id": "eb00481b173e40d8abd5daa397b64c03",
       "version_major": 2,
       "version_minor": 0
      },
      "text/plain": [
       "Epoch 4/5 - Training:   0%|          | 0/66 [00:00<?, ?it/s]"
      ]
     },
     "metadata": {},
     "output_type": "display_data"
    },
    {
     "data": {
      "application/vnd.jupyter.widget-view+json": {
       "model_id": "a18738d180d34dfba48a551d6db5976f",
       "version_major": 2,
       "version_minor": 0
      },
      "text/plain": [
       "Epoch 4/5 - Testing:   0%|          | 0/17 [00:00<?, ?it/s]"
      ]
     },
     "metadata": {},
     "output_type": "display_data"
    },
    {
     "name": "stdout",
     "output_type": "stream",
     "text": [
      "Epoch: 4 | train_loss: 0.4607 | train_acc: 0.8302 | test_loss: 0.2075 | test_acc: 0.9357\n"
     ]
    },
    {
     "data": {
      "application/vnd.jupyter.widget-view+json": {
       "model_id": "5f4f399346a94838bbb462ea708945fb",
       "version_major": 2,
       "version_minor": 0
      },
      "text/plain": [
       "Epoch 5/5 - Training:   0%|          | 0/66 [00:00<?, ?it/s]"
      ]
     },
     "metadata": {},
     "output_type": "display_data"
    },
    {
     "data": {
      "application/vnd.jupyter.widget-view+json": {
       "model_id": "d5277fa328864bb4a0121281ff9a03b5",
       "version_major": 2,
       "version_minor": 0
      },
      "text/plain": [
       "Epoch 5/5 - Testing:   0%|          | 0/17 [00:00<?, ?it/s]"
      ]
     },
     "metadata": {},
     "output_type": "display_data"
    },
    {
     "name": "stdout",
     "output_type": "stream",
     "text": [
      "Epoch: 5 | train_loss: 0.4574 | train_acc: 0.8334 | test_loss: 0.2366 | test_acc: 0.9026\n",
      "Total training time : 3295.303  seconds\n"
     ]
    }
   ],
   "source": [
    "# Set device\n",
    "device = torch.device(\"cuda\" if torch.cuda.is_available() else \"cpu\")\n",
    "model.to(device)\n",
    "\n",
    "# Define the number of epochs\n",
    "num_epochs = 5 # Increase this if necessary\n",
    "\n",
    "# Define loss function, optimizer, and scheduler\n",
    "loss_fn = nn.CrossEntropyLoss()\n",
    "optimizer = torch.optim.Adam(model.parameters(), lr=1e-3, weight_decay=1e-4)\n",
    "# scheduler = torch.optim.lr_scheduler.StepLR(optimizer, step_size=1, gamma=0.1)\n",
    "start_time = time()\n",
    "# Train the model\n",
    "model_result=train(model=model,\n",
    "      train_dataloader=train_loader,\n",
    "      test_dataloader=val_loader,\n",
    "      loss_fn=loss_fn,\n",
    "      optimizer=optimizer,\n",
    "      # scheduler=scheduler,\n",
    "      epochs=num_epochs,\n",
    "      device=device)\n",
    "end_time = time()\n",
    "print(f\"Total training time : {end_time - start_time:.3f}  seconds\")"
   ]
  },
  {
   "cell_type": "code",
   "execution_count": 21,
   "id": "101e0dd1-5f20-4976-8b11-32af44cc2af7",
   "metadata": {},
   "outputs": [],
   "source": [
    "from typing import Dict, List\n",
    "def plot_loss_curves(results: Dict [str, List[float]]):\n",
    "    \"\"\"Plots training curves of a results dictionary.\n",
    "\n",
    "    Args:\n",
    "        results (dict): dictionary containing list of values, e.g.\n",
    "            {\"train_loss\": [...],\n",
    "             \"train_acc\": [...],\n",
    "             \"test_loss\": [...],\n",
    "             \"test_acc\": [...]}\n",
    "    \"\"\"\n",
    "\n",
    "    # Get the loss values of the results dictionary (training and test)\n",
    "    loss = results['train_loss']\n",
    "    test_loss = results['test_loss']\n",
    "\n",
    "    # Get the accuracy values of the results dictionary (training and test)\n",
    "    accuracy = results['train_acc']\n",
    "    test_accuracy = results['test_acc']\n",
    "   \n",
    "    # Figure out how many epochs there were\n",
    "    epochs = range(len(results['train_loss']))\n",
    "\n",
    "    # Setup a plot\n",
    "    plt.figure(figsize=(15, 7))\n",
    "\n",
    "    # Plot loss\n",
    "    plt.subplot(1, 2, 1)\n",
    "    plt.plot(epochs, loss, label='train_loss')\n",
    "    plt.plot(epochs, test_loss, label='test_loss')\n",
    "    plt.title('Loss')\n",
    "    plt.xlabel('Epochs')\n",
    "    plt.legend()\n",
    "\n",
    "    # Plot accuracy\n",
    "    plt.subplot(1, 2, 2)\n",
    "    plt.plot(epochs, accuracy, label='train_accuracy')\n",
    "    plt.plot(epochs, test_accuracy, label='test_accuracy')\n",
    "    plt.title('Accuracy')\n",
    "    plt.xlabel('Epochs')\n",
    "    plt.legend();"
   ]
  },
  {
   "cell_type": "code",
   "execution_count": 22,
   "id": "fdcf0fd2-96fd-482a-a7e0-d2fc3c4173b4",
   "metadata": {},
   "outputs": [
    {
     "data": {
      "image/png": "[encoded data removed]",
      "text/plain": [
       "<Figure size 1500x700 with 2 Axes>"
      ]
     },
     "metadata": {},
     "output_type": "display_data"
    }
   ],
   "source": [
    "import matplotlib.pyplot as plt\n",
    "plot_loss_curves(model_result)"
   ]
  },
  {
   "cell_type": "code",
   "execution_count": 23,
   "id": "9e623fe2-38fa-4716-8407-ddc1c5f0b0d8",
   "metadata": {},
   "outputs": [
    {
     "name": "stdout",
     "output_type": "stream",
     "text": [
      "Saving model to: model2\\newped.pth\n"
     ]
    }
   ],
   "source": [
    "from pathlib import Path\n",
    "\n",
    "# 1. Create models directory \n",
    "MODEL_PATH = Path(\"model2\")\n",
    "MODEL_PATH.mkdir(parents=True, exist_ok=True)\n",
    "\n",
    "# 2. Create model save path \n",
    "MODEL_NAME = \"newped.pth\"\n",
    "MODEL_SAVE_PATH = MODEL_PATH / MODEL_NAME\n",
    "\n",
    "# 3. Save the model state dict \n",
    "print(f\"Saving model to: {MODEL_SAVE_PATH}\")\n",
    "torch.save(obj=model.state_dict(), # only saving the state_dict() only saves the models learned parameters\n",
    "           f=MODEL_SAVE_PATH) "
   ]
  },
  {
   "cell_type": "code",
   "execution_count": null,
   "id": "119da44b-08a6-4aa2-999c-733470d479d3",
   "metadata": {},
   "outputs": [],
   "source": []
  }
 ],
 "metadata": {
  "kernelspec": {
   "display_name": "Python 3 (ipykernel)",
   "language": "python",
   "name": "python3"
  },
  "language_info": {
   "codemirror_mode": {
    "name": "ipython",
    "version": 3
   },
   "file_extension": ".py",
   "mimetype": "text/x-python",
   "name": "python",
   "nbconvert_exporter": "python",
   "pygments_lexer": "ipython3",
   "version": "3.12.4"
  }
 },
 "nbformat": 4,
 "nbformat_minor": 5
}
